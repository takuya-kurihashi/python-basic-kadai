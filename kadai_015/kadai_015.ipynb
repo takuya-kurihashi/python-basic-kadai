{
  "nbformat": 4,
  "nbformat_minor": 0,
  "metadata": {
    "colab": {
      "provenance": []
    },
    "kernelspec": {
      "name": "python3",
      "display_name": "Python 3"
    },
    "language_info": {
      "name": "python"
    }
  },
  "cells": [
    {
      "cell_type": "code",
      "execution_count": null,
      "metadata": {
        "id": "BiuLbdAQwj9b"
      },
      "outputs": [],
      "source": [
        "# 課題 クラスを使いこなそう\n",
        "\n",
        "class Human:\n",
        "  def __init__(self, name, age):\n",
        "    self.name = name\n",
        "    self.age = age\n",
        "\n",
        "  def printinfo(self):\n",
        "    print(f\"名前：{self.name}\")\n",
        "    print(f\"年齢：{self.age}\")\n",
        "\n",
        "\n",
        "# 結果\n",
        "human = Human(\"課題 太郎\", 28)\n",
        "human.printinfo()"
      ]
    }
  ]
}