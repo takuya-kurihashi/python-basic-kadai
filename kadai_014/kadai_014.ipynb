{
  "nbformat": 4,
  "nbformat_minor": 0,
  "metadata": {
    "colab": {
      "provenance": []
    },
    "kernelspec": {
      "name": "python3",
      "display_name": "Python 3"
    },
    "language_info": {
      "name": "python"
    }
  },
  "cells": [
    {
      "cell_type": "code",
      "execution_count": 1,
      "metadata": {
        "colab": {
          "base_uri": "https://localhost:8080/"
        },
        "id": "BLvZ3JCcvEg7",
        "outputId": "7c187093-6227-4f67-982f-fc2a95b30f2e"
      },
      "outputs": [
        {
          "output_type": "stream",
          "name": "stdout",
          "text": [
            "330.0\n"
          ]
        }
      ],
      "source": [
        "# 課題 変数スコープを正しく使おう\n",
        "\n",
        "# 元のコード\n",
        "'''\n",
        "price1 = 100\n",
        "price2 = 200\n",
        "\n",
        "def total():\n",
        "    tax = 1.1\n",
        "    return price1 + price2\n",
        "\n",
        "print (total() * tax)\n",
        "'''\n",
        "\n",
        "# 修正版\n",
        "\n",
        "tax = 1.1\n",
        "\n",
        "def total():\n",
        "    price1 = 100\n",
        "    price2 = 200\n",
        "    return price1 + price2\n",
        "\n",
        "print (total() * tax)"
      ]
    }
  ]
}