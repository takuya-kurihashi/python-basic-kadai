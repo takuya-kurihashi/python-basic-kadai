{
  "nbformat": 4,
  "nbformat_minor": 0,
  "metadata": {
    "colab": {
      "provenance": []
    },
    "kernelspec": {
      "name": "python3",
      "display_name": "Python 3"
    },
    "language_info": {
      "name": "python"
    }
  },
  "cells": [
    {
      "cell_type": "code",
      "execution_count": 1,
      "metadata": {
        "colab": {
          "base_uri": "https://localhost:8080/"
        },
        "id": "ZB4yxxdTuOXb",
        "outputId": "86aa6726-c3e6-48d4-e1dd-d1382a46b0eb"
      },
      "outputs": [
        {
          "output_type": "stream",
          "name": "stdout",
          "text": [
            "売価8506円の税込(10%)価格は9356.6です。\n"
          ]
        }
      ],
      "source": [
        "# 課題 関数を使いこなそう\n",
        "\n",
        "import random\n",
        "\n",
        "# 売価(10000円まで)\n",
        "price = random.randint(0, 10000)\n",
        "\n",
        "# 消費税(%)\n",
        "tax = 10\n",
        "\n",
        "# 売価に消費税を加えた値を返却する\n",
        "def real_price(price, tax):\n",
        "  return price * (tax / 100 + 1)\n",
        "\n",
        "\n",
        "# 結果\n",
        "print(f\"売価{price}円の税込({tax}%)価格は{real_price(price, tax)}です。\")"
      ]
    }
  ]
}