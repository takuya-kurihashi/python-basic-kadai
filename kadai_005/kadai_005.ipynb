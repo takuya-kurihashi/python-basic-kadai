{
  "nbformat": 4,
  "nbformat_minor": 0,
  "metadata": {
    "colab": {
      "provenance": []
    },
    "kernelspec": {
      "name": "python3",
      "display_name": "Python 3"
    },
    "language_info": {
      "name": "python"
    }
  },
  "cells": [
    {
      "cell_type": "code",
      "execution_count": 1,
      "metadata": {
        "colab": {
          "base_uri": "https://localhost:8080/"
        },
        "id": "jpPgKmxdnkao",
        "outputId": "e0fa27a3-4a48-4400-edf8-80acb6ce12dd"
      },
      "outputs": [
        {
          "output_type": "stream",
          "name": "stdout",
          "text": [
            "75.0cm²\n"
          ]
        }
      ],
      "source": [
        "# 課題 変数を使って四則演算しよう\n",
        "\n",
        "upper  = 10  #上辺\n",
        "lower  = 20  #下辺\n",
        "higher = 5   #高さ\n",
        "\n",
        "# 公式：台形の面積 = (上辺 + 下辺) * 高さ / 2\n",
        "result = (upper + lower) * higher / 2\n",
        "\n",
        "# 結果表示\n",
        "print(f\"{result}cm²\")"
      ]
    }
  ]
}