{
  "nbformat": 4,
  "nbformat_minor": 0,
  "metadata": {
    "colab": {
      "provenance": []
    },
    "kernelspec": {
      "name": "python3",
      "display_name": "Python 3"
    },
    "language_info": {
      "name": "python"
    }
  },
  "cells": [
    {
      "cell_type": "code",
      "execution_count": 1,
      "metadata": {
        "colab": {
          "base_uri": "https://localhost:8080/"
        },
        "id": "tcT9eT8_yI2_",
        "outputId": "3b066a67-fd4f-4796-c102-c236288da995"
      },
      "outputs": [
        {
          "output_type": "stream",
          "name": "stdout",
          "text": [
            "人数：8\n",
            "課題太郎1は19歳なので大人ではない\n",
            "課題太郎2は33歳なので大人である\n",
            "課題太郎3は33歳なので大人である\n",
            "課題太郎4は32歳なので大人である\n",
            "課題太郎5は32歳なので大人である\n",
            "課題太郎6は10歳なので大人ではない\n",
            "課題太郎7は1歳なので大人ではない\n",
            "課題太郎8は13歳なので大人ではない\n"
          ]
        }
      ],
      "source": [
        "# 課題 学習したことを組み合わせてコードを書こう\n",
        "\n",
        "import random\n",
        "\n",
        "# クラス定義\n",
        "class Human:\n",
        "  def __init__(self, name, age):\n",
        "    self.name = name\n",
        "    self.age = age\n",
        "\n",
        "  def check_adult(self):\n",
        "    if self.age >= 20:\n",
        "      print(f\"{self.name}は{self.age}歳なので大人である\")\n",
        "    else:\n",
        "      print(f\"{self.name}は{self.age}歳なので大人ではない\")\n",
        "\n",
        "# 人数の定義(1～10人)\n",
        "count = random.randint(1, 10)\n",
        "\n",
        "# 人数分のインスタンスを生成してリストに追加(0歳～70歳)\n",
        "humans = []\n",
        "for i in range(1, count + 1):\n",
        "  humans.append(Human(f\"課題太郎{i}\", random.randint(0, 70)))\n",
        "\n",
        "# 結果出力\n",
        "print(f\"人数：{count}\")\n",
        "for human in humans:\n",
        "  human.check_adult()"
      ]
    }
  ]
}