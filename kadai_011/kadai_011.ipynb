{
  "nbformat": 4,
  "nbformat_minor": 0,
  "metadata": {
    "colab": {
      "provenance": []
    },
    "kernelspec": {
      "name": "python3",
      "display_name": "Python 3"
    },
    "language_info": {
      "name": "python"
    }
  },
  "cells": [
    {
      "cell_type": "code",
      "execution_count": 1,
      "metadata": {
        "colab": {
          "base_uri": "https://localhost:8080/"
        },
        "id": "ZXWT2IfMszie",
        "outputId": "bacf1e45-f38a-4770-8649-922aa3da6827"
      },
      "outputs": [
        {
          "output_type": "stream",
          "name": "stdout",
          "text": [
            "水\n",
            "金\n",
            "地\n",
            "火\n",
            "木\n",
            "土\n",
            "天\n",
            "海\n",
            "冥\n",
            "水\n",
            "金\n",
            "地\n",
            "火\n",
            "木\n",
            "土\n",
            "天\n",
            "海\n",
            "冥\n"
          ]
        }
      ],
      "source": [
        "# 課題 繰り返し処理を使いこなそう\n",
        "\n",
        "# リスト\n",
        "star_list =  [\"水\",\"金\",\"地\",\"火\",\"木\",\"土\",\"天\",\"海\",\"冥\"]\n",
        "\n",
        "# forで回す\n",
        "for star in star_list:\n",
        "  print(star)\n",
        "\n",
        "# whileで回す\n",
        "i = 0\n",
        "while True:\n",
        "  print(star_list[i])\n",
        "  if star_list[i] == \"冥\":\n",
        "    break\n",
        "  i = i + 1"
      ]
    }
  ]
}