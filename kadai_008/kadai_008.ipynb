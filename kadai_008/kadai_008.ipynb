{
  "nbformat": 4,
  "nbformat_minor": 0,
  "metadata": {
    "colab": {
      "provenance": []
    },
    "kernelspec": {
      "name": "python3",
      "display_name": "Python 3"
    },
    "language_info": {
      "name": "python"
    }
  },
  "cells": [
    {
      "cell_type": "code",
      "execution_count": 2,
      "metadata": {
        "colab": {
          "base_uri": "https://localhost:8080/"
        },
        "id": "fMRsjKGkr3J4",
        "outputId": "802e9423-f734-436e-ff96-b7a4524fa69f"
      },
      "outputs": [
        {
          "output_type": "stream",
          "name": "stdout",
          "text": [
            "Buzz\n",
            "実際の値：95\n"
          ]
        }
      ],
      "source": [
        "# 課題 条件分岐のif文で処理を切り替えよう\n",
        "\n",
        "import random\n",
        "\n",
        "# 課題内で指定がなかったため0～100までの値とした\n",
        "var = random.randint(0, 100)\n",
        "\n",
        "if var % (3*5) == 0:\n",
        "  print(\"FizzBuzz\")\n",
        "elif var % 3 == 0:\n",
        "  print(\"Fizz\")\n",
        "elif var % 5 == 0:\n",
        "  print(\"Buzz\")\n",
        "else:\n",
        "  print(var)\n",
        "\n",
        "# 実際の値\n",
        "print(\"実際の値：\" + str(var))"
      ]
    }
  ]
}